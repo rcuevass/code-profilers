{
 "cells": [
  {
   "cell_type": "code",
   "execution_count": 1,
   "metadata": {},
   "outputs": [],
   "source": [
    "from pyinstrument import Profiler\n",
    "from matrix_product import generate_matrices, product_numpy, product_loop"
   ]
  },
  {
   "cell_type": "code",
   "execution_count": 2,
   "metadata": {},
   "outputs": [
    {
     "name": "stdout",
     "output_type": "stream",
     "text": [
      "\n",
      "  _     ._   __/__   _ _  _  _ _/_   Recorded: 22:47:33  Samples:  0\n",
      " /_//_/// /_\\ / //_// / //_'/ //     Duration: 0.000     CPU time: 0.000\n",
      "/   _/                      v4.0.3\n",
      "\n",
      "Program: C:\\Users\\Rogelio Cuevas\\AppData\\Local\\Continuum\\anaconda3\\envs\\code-profilers\\lib\\site-packages\\ipykernel_launcher.py -f C:\\Users\\Rogelio Cuevas\\AppData\\Roaming\\jupyter\\runtime\\kernel-3fd05ecb-d18b-40f4-bdc7-cfc8d067a191.json\n",
      "\n",
      "No samples were recorded.\n",
      "\n",
      "\n"
     ]
    }
   ],
   "source": [
    "profiler = Profiler()\n",
    "a, b = generate_matrices()\n",
    "profiler.start()\n",
    "profiler.stop()\n",
    "profiler.print()"
   ]
  },
  {
   "cell_type": "code",
   "execution_count": 6,
   "metadata": {},
   "outputs": [
    {
     "name": "stdout",
     "output_type": "stream",
     "text": [
      "\n",
      "  _     ._   __/__   _ _  _  _ _/_   Recorded: 22:52:46  Samples:  0\n",
      " /_//_/// /_\\ / //_// / //_'/ //     Duration: 0.001     CPU time: 0.000\n",
      "/   _/                      v4.0.3\n",
      "\n",
      "Program: C:\\Users\\Rogelio Cuevas\\AppData\\Local\\Continuum\\anaconda3\\envs\\code-profilers\\lib\\site-packages\\ipykernel_launcher.py -f C:\\Users\\Rogelio Cuevas\\AppData\\Roaming\\jupyter\\runtime\\kernel-3fd05ecb-d18b-40f4-bdc7-cfc8d067a191.json\n",
      "\n",
      "No samples were recorded.\n",
      "\n",
      "\n"
     ]
    }
   ],
   "source": [
    "profiler = Profiler()\n",
    "c_np = product_numpy(a, b)\n",
    "profiler.start()\n",
    "profiler.stop()\n",
    "profiler.print()"
   ]
  },
  {
   "cell_type": "code",
   "execution_count": 4,
   "metadata": {},
   "outputs": [
    {
     "name": "stdout",
     "output_type": "stream",
     "text": [
      "\n",
      "  _     ._   __/__   _ _  _  _ _/_   Recorded: 22:48:18  Samples:  0\n",
      " /_//_/// /_\\ / //_// / //_'/ //     Duration: 0.000     CPU time: 0.000\n",
      "/   _/                      v4.0.3\n",
      "\n",
      "Program: C:\\Users\\Rogelio Cuevas\\AppData\\Local\\Continuum\\anaconda3\\envs\\code-profilers\\lib\\site-packages\\ipykernel_launcher.py -f C:\\Users\\Rogelio Cuevas\\AppData\\Roaming\\jupyter\\runtime\\kernel-3fd05ecb-d18b-40f4-bdc7-cfc8d067a191.json\n",
      "\n",
      "No samples were recorded.\n",
      "\n",
      "\n"
     ]
    }
   ],
   "source": [
    "profiler = Profiler()\n",
    "c_loop = product_loop(a, b)\n",
    "profiler.start()\n",
    "profiler.stop()\n",
    "profiler.print()"
   ]
  },
  {
   "cell_type": "code",
   "execution_count": null,
   "metadata": {},
   "outputs": [],
   "source": []
  }
 ],
 "metadata": {
  "kernelspec": {
   "display_name": "code-profilers",
   "language": "python",
   "name": "code-profilers"
  },
  "language_info": {
   "codemirror_mode": {
    "name": "ipython",
    "version": 3
   },
   "file_extension": ".py",
   "mimetype": "text/x-python",
   "name": "python",
   "nbconvert_exporter": "python",
   "pygments_lexer": "ipython3",
   "version": "3.7.4"
  }
 },
 "nbformat": 4,
 "nbformat_minor": 2
}
